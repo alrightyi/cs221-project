{
 "cells": [
  {
   "cell_type": "code",
   "execution_count": 1,
   "metadata": {},
   "outputs": [],
   "source": [
    "from lxml import html\n",
    "import requests"
   ]
  },
  {
   "cell_type": "code",
   "execution_count": 8,
   "metadata": {},
   "outputs": [
    {
     "name": "stdout",
     "output_type": "stream",
     "text": [
      "<Element html at 0x7feaef927f98>\n"
     ]
    }
   ],
   "source": [
    "CURL = \"https://www.rogerebert.com/reviews?cmd=ChdjYS1wdWItNDY5ODU5NTUxOTc1NjkxMg&filters%5Bgreat_movies%5D%5B%5D=&filters%5Bno_stars%5D%5B%5D=&filters%5Bno_stars%5D%5B%5D=1&filters%5Btitle%5D=&filters%5Breviewers%5D%5B%5D=50cbacd5f3b43b53e9000003&filters%5Bgenres%5D=&sort%5Border%5D=oldest&page=\"\n",
    "page = requests.get(CURL+str(1))\n",
    "tree = html.fromstring(page.content)\n",
    "print(tree)\n",
    "#keys = tree.xpath('//a[@href=\"/reviews/the-illusionist-2011\"]/text()')\n",
    "#print(keys)"
   ]
  },
  {
   "cell_type": "code",
   "execution_count": 11,
   "metadata": {},
   "outputs": [
    {
     "name": "stdout",
     "output_type": "stream",
     "text": [
      "Le Petit Soldat\n",
      "Galia\n",
      "In Like Flint\n",
      "Clouds Over Israel\n",
      "The Game Is Over\n",
      "Guns of the Trees\n",
      "Hombre\n",
      "Good Times\n",
      "Africa Addio\n",
      "Casino Royale\n",
      "Marat/Sade\n",
      "Echoes of Silence\n",
      "The Happening\n",
      "For a Few Dollars More\n",
      "The Honey Pot\n",
      "Hurry Sundown\n",
      "Eight on the Lam\n",
      "The War Wagon\n",
      "Easy Come, Easy Go\n",
      "Chuka\n",
      "The Endless Summer\n",
      "Bullwhip Griffin\n",
      "The Naked Prey\n",
      "You Only Live Twice\n"
     ]
    }
   ],
   "source": [
    "from bs4 import  BeautifulSoup\n",
    "import requests\n",
    "CURL = \"https://www.rogerebert.com/reviews?cmd=ChdjYS1wdWItNDY5ODU5NTUxOTc1NjkxMg&filters%5Bgreat_movies%5D%5B%5D=&filters%5Bno_stars%5D%5B%5D=&filters%5Bno_stars%5D%5B%5D=1&filters%5Btitle%5D=&filters%5Breviewers%5D%5B%5D=50cbacd5f3b43b53e9000003&filters%5Bgenres%5D=&sort%5Border%5D=oldest&page=\"\n",
    "page = requests.get(CURL+str(1))\n",
    "soup = BeautifulSoup(page.content)\n",
    "for link in soup.find_all('figure',{'class':'movie review'}):\n",
    "    print(link.find('h5', {'class':'title'}).a.string)\n",
    "                          "
   ]
  },
  {
   "cell_type": "code",
   "execution_count": 13,
   "metadata": {},
   "outputs": [
    {
     "name": "stdout",
     "output_type": "stream",
     "text": [
      "(8388608, -1)\n",
      "3000\n"
     ]
    }
   ],
   "source": [
    "import resource\n",
    "import sys\n",
    "\n",
    "print(resource.getrlimit(resource.RLIMIT_STACK))\n",
    "print(sys.getrecursionlimit())"
   ]
  },
  {
   "cell_type": "code",
   "execution_count": null,
   "metadata": {},
   "outputs": [],
   "source": []
  }
 ],
 "metadata": {
  "kernelspec": {
   "display_name": "Python 3",
   "language": "python",
   "name": "python3"
  },
  "language_info": {
   "codemirror_mode": {
    "name": "ipython",
    "version": 3
   },
   "file_extension": ".py",
   "mimetype": "text/x-python",
   "name": "python",
   "nbconvert_exporter": "python",
   "pygments_lexer": "ipython3",
   "version": "3.7.3"
  }
 },
 "nbformat": 4,
 "nbformat_minor": 2
}
